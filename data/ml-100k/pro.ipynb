{
 "cells": [
  {
   "cell_type": "markdown",
   "metadata": {
    "pycharm": {
     "name": "#%% md\n"
    }
   },
   "source": [
    "# read data"
   ]
  },
  {
   "cell_type": "code",
   "execution_count": 20,
   "metadata": {
    "pycharm": {
     "name": "#%%\n"
    }
   },
   "outputs": [
    {
     "data": {
      "text/html": [
       "<div>\n",
       "<style scoped>\n",
       "    .dataframe tbody tr th:only-of-type {\n",
       "        vertical-align: middle;\n",
       "    }\n",
       "\n",
       "    .dataframe tbody tr th {\n",
       "        vertical-align: top;\n",
       "    }\n",
       "\n",
       "    .dataframe thead th {\n",
       "        text-align: right;\n",
       "    }\n",
       "</style>\n",
       "<table border=\"1\" class=\"dataframe\">\n",
       "  <thead>\n",
       "    <tr style=\"text-align: right;\">\n",
       "      <th></th>\n",
       "      <th>uid</th>\n",
       "      <th>iid</th>\n",
       "      <th>val</th>\n",
       "      <th>tag</th>\n",
       "    </tr>\n",
       "  </thead>\n",
       "  <tbody>\n",
       "    <tr>\n",
       "      <th>0</th>\n",
       "      <td>196</td>\n",
       "      <td>242</td>\n",
       "      <td>3</td>\n",
       "      <td>881250949</td>\n",
       "    </tr>\n",
       "    <tr>\n",
       "      <th>1</th>\n",
       "      <td>186</td>\n",
       "      <td>302</td>\n",
       "      <td>3</td>\n",
       "      <td>891717742</td>\n",
       "    </tr>\n",
       "    <tr>\n",
       "      <th>2</th>\n",
       "      <td>22</td>\n",
       "      <td>377</td>\n",
       "      <td>1</td>\n",
       "      <td>878887116</td>\n",
       "    </tr>\n",
       "    <tr>\n",
       "      <th>3</th>\n",
       "      <td>244</td>\n",
       "      <td>51</td>\n",
       "      <td>2</td>\n",
       "      <td>880606923</td>\n",
       "    </tr>\n",
       "    <tr>\n",
       "      <th>4</th>\n",
       "      <td>166</td>\n",
       "      <td>346</td>\n",
       "      <td>1</td>\n",
       "      <td>886397596</td>\n",
       "    </tr>\n",
       "  </tbody>\n",
       "</table>\n",
       "</div>"
      ],
      "text/plain": [
       "   uid  iid  val        tag\n",
       "0  196  242    3  881250949\n",
       "1  186  302    3  891717742\n",
       "2   22  377    1  878887116\n",
       "3  244   51    2  880606923\n",
       "4  166  346    1  886397596"
      ]
     },
     "execution_count": 20,
     "metadata": {},
     "output_type": "execute_result"
    }
   ],
   "source": [
    "import pandas as pd\n",
    "import numpy as np\n",
    "ratings = pd.read_csv('u.data', header=None, sep='\\t', names=['uid', 'iid', 'val', 'tag'])\n",
    "ratings.head()"
   ]
  },
  {
   "cell_type": "code",
   "execution_count": 21,
   "metadata": {
    "pycharm": {
     "name": "#%%\n"
    }
   },
   "outputs": [
    {
     "name": "stdout",
     "output_type": "stream",
     "text": [
      "{0: 24, 1: 53, 2: 23, 3: 24, 4: 33, 5: 42, 6: 57, 7: 36, 8: 29, 9: 53, 10: 39, 11: 28, 12: 47, 13: 45, 14: 49, 15: 21, 16: 30, 17: 35, 18: 40, 19: 42, 20: 26, 21: 25, 22: 30, 23: 21, 24: 39, 25: 49, 26: 40, 27: 32, 28: 41, 29: 7, 30: 24, 31: 28, 32: 23, 33: 38, 34: 20, 35: 19, 36: 23, 37: 28, 38: 41, 39: 38, 40: 33, 41: 30, 42: 29, 43: 26, 44: 29, 45: 27, 46: 53, 47: 45, 48: 23, 49: 21, 50: 28, 51: 18, 52: 26, 53: 22, 54: 37, 55: 25, 56: 16, 57: 27, 58: 49, 59: 50, 60: 36, 61: 27, 62: 31, 63: 32, 64: 51, 65: 23, 66: 17, 67: 19, 68: 24, 69: 27, 70: 39, 71: 48, 72: 24, 73: 39, 74: 24, 75: 20, 76: 30, 77: 26, 78: 39, 79: 34, 80: 21, 81: 50, 82: 40, 83: 32, 84: 51, 85: 26, 86: 47, 87: 49, 88: 43, 89: 60, 90: 55, 91: 32, 92: 48, 93: 26, 94: 31, 95: 25, 96: 43, 97: 49, 98: 20, 99: 36, 100: 15, 101: 38, 102: 26, 103: 27, 104: 24, 105: 61, 106: 39, 107: 44, 108: 29, 109: 19, 110: 57, 111: 30, 112: 47, 113: 27, 114: 31, 115: 40, 116: 20, 117: 21, 118: 32, 119: 47, 120: 54, 121: 32, 122: 48, 123: 34, 124: 30, 125: 28, 126: 33, 127: 24, 128: 36, 129: 20, 130: 59, 131: 24, 132: 53, 133: 31, 134: 23, 135: 51, 136: 50, 137: 46, 138: 20, 139: 30, 140: 49, 141: 13, 142: 42, 143: 53, 144: 31, 145: 45, 146: 40, 147: 33, 148: 35, 149: 20, 150: 38, 151: 33, 152: 25, 153: 25, 154: 32, 155: 25, 156: 57, 157: 50, 158: 23, 159: 27, 160: 50, 161: 25, 162: 49, 163: 47, 164: 20, 165: 47, 166: 37, 167: 48, 168: 52, 169: 53, 170: 48, 171: 55, 172: 56, 173: 30, 174: 26, 175: 28, 176: 20, 177: 26, 178: 15, 179: 22, 180: 26, 181: 36, 182: 33, 183: 37, 184: 53, 185: 39, 186: 26, 187: 42, 188: 32, 189: 30, 190: 33, 191: 42, 192: 29, 193: 38, 194: 42, 195: 49, 196: 55, 197: 21, 198: 30, 199: 40, 200: 27, 201: 41, 202: 25, 203: 52, 204: 47, 205: 14, 206: 39, 207: 43, 208: 33, 209: 39, 210: 66, 211: 49, 212: 33, 213: 26, 214: 35, 215: 22, 216: 22, 217: 37, 218: 32, 219: 30, 220: 19, 221: 29, 222: 19, 223: 31, 224: 51, 225: 28, 226: 46, 227: 21, 228: 29, 229: 28, 230: 48, 231: 45, 232: 38, 233: 60, 234: 37, 235: 44, 236: 49, 237: 42, 238: 39, 239: 23, 240: 26, 241: 33, 242: 33, 243: 28, 244: 22, 245: 19, 246: 28, 247: 25, 248: 25, 249: 29, 250: 28, 251: 42, 252: 26, 253: 44, 254: 23, 255: 35, 256: 17, 257: 19, 258: 21, 259: 40, 260: 28, 261: 19, 262: 41, 263: 36, 264: 26, 265: 62, 266: 23, 267: 24, 268: 31, 269: 18, 270: 51, 271: 33, 272: 50, 273: 20, 274: 38, 275: 21, 276: 35, 277: 37, 278: 33, 279: 30, 280: 15, 281: 22, 282: 28, 283: 40, 284: 25, 285: 27, 286: 21, 287: 34, 288: 11, 289: 40, 290: 19, 291: 35, 292: 24, 293: 34, 294: 31, 295: 43, 296: 29, 297: 44, 298: 29, 299: 26, 300: 24, 301: 42, 302: 19, 303: 22, 304: 23, 305: 45, 306: 25, 307: 60, 308: 40, 309: 37, 310: 32, 311: 48, 312: 41, 313: 20, 314: 31, 315: 43, 316: 22, 317: 65, 318: 38, 319: 19, 320: 49, 321: 20, 322: 21, 323: 21, 324: 48, 325: 41, 326: 22, 327: 51, 328: 48, 329: 35, 330: 33, 331: 20, 332: 47, 333: 32, 334: 45, 335: 23, 336: 37, 337: 39, 338: 35, 339: 46, 340: 17, 341: 25, 342: 43, 343: 30, 344: 28, 345: 34, 346: 18, 347: 24, 348: 68, 349: 32, 350: 61, 351: 37, 352: 25, 353: 29, 354: 25, 355: 32, 356: 26, 357: 40, 358: 22, 359: 51, 360: 22, 361: 35, 362: 20, 363: 63, 364: 29, 365: 20, 366: 17, 367: 18, 368: 24, 369: 52, 370: 36, 371: 25, 372: 24, 373: 36, 374: 17, 375: 28, 376: 22, 377: 35, 378: 44, 379: 32, 380: 33, 381: 45, 382: 42, 383: 52, 384: 36, 385: 36, 386: 33, 387: 31, 388: 44, 389: 42, 390: 23, 391: 52, 392: 19, 393: 25, 394: 43, 395: 57, 396: 17, 397: 40, 398: 25, 399: 33, 400: 46, 401: 30, 402: 37, 403: 29, 404: 22, 405: 52, 406: 29, 407: 23, 408: 48, 409: 30, 410: 34, 411: 25, 412: 55, 413: 24, 414: 39, 415: 20, 416: 27, 417: 55, 418: 37, 419: 53, 420: 38, 421: 26, 422: 64, 423: 36, 424: 19, 425: 55, 426: 51, 427: 28, 428: 27, 429: 38, 430: 24, 431: 22, 432: 27, 433: 16, 434: 24, 435: 30, 436: 27, 437: 51, 438: 23, 439: 30, 440: 50, 441: 22, 442: 35, 443: 51, 444: 21, 445: 57, 446: 30, 447: 23, 448: 23, 449: 35, 450: 16, 451: 35, 452: 18, 453: 57, 454: 48, 455: 24, 456: 33, 457: 47, 458: 22, 459: 44, 460: 15, 461: 19, 462: 48, 463: 60, 464: 32, 465: 22, 466: 29, 467: 28, 468: 60, 469: 24, 470: 10, 471: 24, 472: 29, 473: 51, 474: 30, 475: 28, 476: 23, 477: 29, 478: 30, 479: 57, 480: 73, 481: 18, 482: 29, 483: 27, 484: 44, 485: 39, 486: 22, 487: 48, 488: 55, 489: 29, 490: 43, 491: 57, 492: 22, 493: 38, 494: 29, 495: 21, 496: 20, 497: 26, 498: 42, 499: 28, 500: 22, 501: 22, 502: 50, 503: 40, 504: 27, 505: 46, 506: 18, 507: 27, 508: 23, 509: 34, 510: 22, 511: 29, 512: 43, 513: 27, 514: 53, 515: 53, 516: 24, 517: 49, 518: 22, 519: 62, 520: 19, 521: 36, 522: 50, 523: 56, 524: 27, 525: 30, 526: 33, 527: 18, 528: 47, 529: 29, 530: 30, 531: 20, 532: 43, 533: 20, 534: 45, 535: 38, 536: 36, 537: 31, 538: 53, 539: 28, 540: 19, 541: 21, 542: 33, 543: 44, 544: 27, 545: 36, 546: 50, 547: 51, 548: 42, 549: 16, 550: 25, 551: 45, 552: 58, 553: 32, 554: 29, 555: 35, 556: 30, 557: 56, 558: 69, 559: 32, 560: 23, 561: 54, 562: 39, 563: 65, 564: 40, 565: 20, 566: 24, 567: 39, 568: 34, 569: 26, 570: 34, 571: 51, 572: 68, 573: 56, 574: 33, 575: 48, 576: 36, 577: 31, 578: 32, 579: 16, 580: 37, 581: 17, 582: 44, 583: 25, 584: 69, 585: 20, 586: 26, 587: 18, 588: 21, 589: 50, 590: 57, 591: 18, 592: 31, 593: 46, 594: 25, 595: 20, 596: 23, 597: 40, 598: 22, 599: 34, 600: 19, 601: 47, 602: 21, 603: 39, 604: 33, 605: 28, 606: 49, 607: 22, 608: 13, 609: 22, 610: 46, 611: 36, 612: 37, 613: 54, 614: 38, 615: 55, 616: 27, 617: 15, 618: 17, 619: 18, 620: 17, 621: 25, 622: 50, 623: 19, 624: 27, 625: 23, 626: 24, 627: 13, 628: 46, 629: 26, 630: 18, 631: 18, 632: 35, 633: 39, 634: 22, 635: 47, 636: 30, 637: 45, 638: 42, 639: 20, 640: 24, 641: 18, 642: 39, 643: 51, 644: 27, 645: 17, 646: 40, 647: 43, 648: 20, 649: 42, 650: 65, 651: 35, 652: 31, 653: 27, 654: 50, 655: 48, 656: 26, 657: 33, 658: 31, 659: 26, 660: 28, 661: 55, 662: 26, 663: 30, 664: 25, 665: 44, 666: 35, 667: 29, 668: 37, 669: 30, 670: 21, 671: 54, 672: 51, 673: 13, 674: 34, 675: 30, 676: 20, 677: 50, 678: 20, 679: 33, 680: 44, 681: 23, 682: 42, 683: 28, 684: 32, 685: 32, 686: 31, 687: 37, 688: 25, 689: 35, 690: 34, 691: 34, 692: 43, 693: 60, 694: 26, 695: 55, 696: 25, 697: 28, 698: 44, 699: 17, 700: 51, 701: 37, 702: 26, 703: 51, 704: 21, 705: 23, 706: 56, 707: 26, 708: 21, 709: 19, 710: 22, 711: 22, 712: 42, 713: 26, 714: 21, 715: 36, 716: 24, 717: 42, 718: 37, 719: 49, 720: 24, 721: 50, 722: 26, 723: 31, 724: 21, 725: 25, 726: 25, 727: 58, 728: 19, 729: 31, 730: 41, 731: 28, 732: 44, 733: 25, 734: 29, 735: 48, 736: 30, 737: 35, 738: 35, 739: 25, 740: 25, 741: 35, 742: 31, 743: 35, 744: 42, 745: 25, 746: 19, 747: 28, 748: 33, 749: 28, 750: 24, 751: 60, 752: 56, 753: 59, 754: 44, 755: 30, 756: 26, 757: 27, 758: 20, 759: 35, 760: 17, 761: 32, 762: 27, 763: 27, 764: 31, 765: 42, 766: 70, 767: 29, 768: 39, 769: 28, 770: 26, 771: 50, 772: 20, 773: 30, 774: 46, 775: 30, 776: 63, 777: 34, 778: 31, 779: 49, 780: 20, 781: 21, 782: 30, 783: 47, 784: 32, 785: 36, 786: 18, 787: 51, 788: 29, 789: 27, 790: 31, 791: 40, 792: 22, 793: 32, 794: 30, 795: 32, 796: 44, 797: 40, 798: 49, 799: 25, 800: 22, 801: 35, 802: 70, 803: 39, 804: 27, 805: 27, 806: 41, 807: 45, 808: 50, 809: 55, 810: 40, 811: 22, 812: 14, 813: 30, 814: 32, 815: 34, 816: 19, 817: 28, 818: 59, 819: 22, 820: 37, 821: 29, 822: 27, 823: 31, 824: 44, 825: 28, 826: 23, 827: 28, 828: 48, 829: 46, 830: 21, 831: 24, 832: 34, 833: 26, 834: 44, 835: 44, 836: 36, 837: 23, 838: 38, 839: 39, 840: 45, 841: 40, 842: 35, 843: 22, 844: 64, 845: 27, 846: 29, 847: 46, 848: 15, 849: 34, 850: 18, 851: 46, 852: 49, 853: 29, 854: 53, 855: 43, 856: 35, 857: 63, 858: 18, 859: 70, 860: 38, 861: 25, 862: 17, 863: 27, 864: 25, 865: 45, 866: 24, 867: 21, 868: 30, 869: 22, 870: 31, 871: 19, 872: 48, 873: 36, 874: 24, 875: 41, 876: 30, 877: 50, 878: 33, 879: 13, 880: 39, 881: 35, 882: 49, 883: 44, 884: 30, 885: 20, 886: 14, 887: 41, 888: 24, 889: 32, 890: 51, 891: 36, 892: 25, 893: 47, 894: 31, 895: 28, 896: 30, 897: 23, 898: 32, 899: 60, 900: 38, 901: 45, 902: 28, 903: 17, 904: 27, 905: 45, 906: 25, 907: 44, 908: 50, 909: 28, 910: 37, 911: 51, 912: 27, 913: 44, 914: 50, 915: 27, 916: 22, 917: 40, 918: 25, 919: 30, 920: 20, 921: 29, 922: 21, 923: 29, 924: 18, 925: 49, 926: 23, 927: 21, 928: 44, 929: 28, 930: 60, 931: 58, 932: 28, 933: 61, 934: 42, 935: 24, 936: 48, 937: 38, 938: 26, 939: 32, 940: 20, 941: 48, 942: 22}\n",
      "{0: 'technician', 1: 'other', 2: 'writer', 3: 'technician', 4: 'other', 5: 'executive', 6: 'administrator', 7: 'administrator', 8: 'student', 9: 'lawyer', 10: 'other', 11: 'other', 12: 'educator', 13: 'scientist', 14: 'educator', 15: 'entertainment', 16: 'programmer', 17: 'other', 18: 'librarian', 19: 'homemaker', 20: 'writer', 21: 'writer', 22: 'artist', 23: 'artist', 24: 'engineer', 25: 'engineer', 26: 'librarian', 27: 'writer', 28: 'programmer', 29: 'student', 30: 'artist', 31: 'student', 32: 'student', 33: 'administrator', 34: 'homemaker', 35: 'student', 36: 'student', 37: 'other', 38: 'entertainment', 39: 'scientist', 40: 'engineer', 41: 'administrator', 42: 'librarian', 43: 'technician', 44: 'programmer', 45: 'marketing', 46: 'marketing', 47: 'administrator', 48: 'student', 49: 'writer', 50: 'educator', 51: 'student', 52: 'programmer', 53: 'executive', 54: 'programmer', 55: 'librarian', 56: 'none', 57: 'programmer', 58: 'educator', 59: 'healthcare', 60: 'engineer', 61: 'administrator', 62: 'marketing', 63: 'educator', 64: 'educator', 65: 'student', 66: 'student', 67: 'student', 68: 'engineer', 69: 'engineer', 70: 'scientist', 71: 'administrator', 72: 'student', 73: 'scientist', 74: 'entertainment', 75: 'student', 76: 'technician', 77: 'administrator', 78: 'administrator', 79: 'administrator', 80: 'student', 81: 'programmer', 82: 'other', 83: 'executive', 84: 'educator', 85: 'administrator', 86: 'administrator', 87: 'librarian', 88: 'administrator', 89: 'educator', 90: 'marketing', 91: 'entertainment', 92: 'executive', 93: 'student', 94: 'administrator', 95: 'artist', 96: 'artist', 97: 'executive', 98: 'student', 99: 'executive', 100: 'student', 101: 'programmer', 102: 'student', 103: 'student', 104: 'engineer', 105: 'retired', 106: 'scientist', 107: 'educator', 108: 'other', 109: 'student', 110: 'engineer', 111: 'salesman', 112: 'executive', 113: 'programmer', 114: 'engineer', 115: 'healthcare', 116: 'student', 117: 'administrator', 118: 'programmer', 119: 'other', 120: 'librarian', 121: 'writer', 122: 'artist', 123: 'student', 124: 'lawyer', 125: 'lawyer', 126: 'none', 127: 'marketing', 128: 'marketing', 129: 'none', 130: 'administrator', 131: 'other', 132: 'engineer', 133: 'programmer', 134: 'student', 135: 'other', 136: 'educator', 137: 'doctor', 138: 'student', 139: 'student', 140: 'programmer', 141: 'other', 142: 'technician', 143: 'programmer', 144: 'entertainment', 145: 'artist', 146: 'librarian', 147: 'engineer', 148: 'marketing', 149: 'artist', 150: 'administrator', 151: 'educator', 152: 'student', 153: 'student', 154: 'other', 155: 'educator', 156: 'engineer', 157: 'educator', 158: 'student', 159: 'programmer', 160: 'lawyer', 161: 'artist', 162: 'administrator', 163: 'healthcare', 164: 'other', 165: 'educator', 166: 'other', 167: 'other', 168: 'other', 169: 'healthcare', 170: 'educator', 171: 'marketing', 172: 'other', 173: 'administrator', 174: 'scientist', 175: 'scientist', 176: 'programmer', 177: 'other', 178: 'entertainment', 179: 'administrator', 180: 'executive', 181: 'programmer', 182: 'scientist', 183: 'librarian', 184: 'librarian', 185: 'executive', 186: 'educator', 187: 'student', 188: 'artist', 189: 'administrator', 190: 'administrator', 191: 'educator', 192: 'student', 193: 'administrator', 194: 'scientist', 195: 'writer', 196: 'technician', 197: 'student', 198: 'writer', 199: 'programmer', 200: 'writer', 201: 'educator', 202: 'student', 203: 'librarian', 204: 'lawyer', 205: 'student', 206: 'marketing', 207: 'engineer', 208: 'educator', 209: 'engineer', 210: 'salesman', 211: 'educator', 212: 'executive', 213: 'librarian', 214: 'programmer', 215: 'engineer', 216: 'other', 217: 'administrator', 218: 'programmer', 219: 'librarian', 220: 'student', 221: 'programmer', 222: 'student', 223: 'educator', 224: 'administrator', 225: 'student', 226: 'executive', 227: 'student', 228: 'librarian', 229: 'student', 230: 'librarian', 231: 'scientist', 232: 'engineer', 233: 'retired', 234: 'educator', 235: 'writer', 236: 'administrator', 237: 'administrator', 238: 'artist', 239: 'educator', 240: 'student', 241: 'educator', 242: 'educator', 243: 'technician', 244: 'student', 245: 'student', 246: 'engineer', 247: 'student', 248: 'student', 249: 'executive', 250: 'doctor', 251: 'engineer', 252: 'librarian', 253: 'educator', 254: 'entertainment', 255: 'none', 256: 'student', 257: 'student', 258: 'student', 259: 'artist', 260: 'administrator', 261: 'student', 262: 'programmer', 263: 'writer', 264: 'executive', 265: 'administrator', 266: 'engineer', 267: 'engineer', 268: 'librarian', 269: 'student', 270: 'engineer', 271: 'scientist', 272: 'other', 273: 'student', 274: 'engineer', 275: 'student', 276: 'administrator', 277: 'librarian', 278: 'programmer', 279: 'librarian', 280: 'student', 281: 'administrator', 282: 'programmer', 283: 'executive', 284: 'programmer', 285: 'student', 286: 'salesman', 287: 'marketing', 288: 'none', 289: 'engineer', 290: 'student', 291: 'programmer', 292: 'writer', 293: 'technician', 294: 'educator', 295: 'administrator', 296: 'educator', 297: 'executive', 298: 'doctor', 299: 'programmer', 300: 'student', 301: 'educator', 302: 'student', 303: 'student', 304: 'programmer', 305: 'other', 306: 'student', 307: 'retired', 308: 'scientist', 309: 'educator', 310: 'technician', 311: 'other', 312: 'marketing', 313: 'student', 314: 'educator', 315: 'other', 316: 'administrator', 317: 'retired', 318: 'programmer', 319: 'student', 320: 'educator', 321: 'student', 322: 'student', 323: 'student', 324: 'technician', 325: 'administrator', 326: 'student', 327: 'administrator', 328: 'educator', 329: 'educator', 330: 'entertainment', 331: 'student', 332: 'other', 333: 'librarian', 334: 'executive', 335: 'salesman', 336: 'scientist', 337: 'librarian', 338: 'lawyer', 339: 'engineer', 340: 'student', 341: 'other', 342: 'engineer', 343: 'librarian', 344: 'librarian', 345: 'other', 346: 'student', 347: 'student', 348: 'retired', 349: 'student', 350: 'educator', 351: 'programmer', 352: 'scientist', 353: 'librarian', 354: 'student', 355: 'homemaker', 356: 'executive', 357: 'educator', 358: 'student', 359: 'other', 360: 'student', 361: 'homemaker', 362: 'student', 363: 'engineer', 364: 'lawyer', 365: 'student', 366: 'student', 367: 'student', 368: 'student', 369: 'writer', 370: 'engineer', 371: 'student', 372: 'other', 373: 'executive', 374: 'entertainment', 375: 'other', 376: 'student', 377: 'student', 378: 'programmer', 379: 'engineer', 380: 'artist', 381: 'engineer', 382: 'administrator', 383: 'programmer', 384: 'writer', 385: 'salesman', 386: 'entertainment', 387: 'other', 388: 'writer', 389: 'writer', 390: 'student', 391: 'writer', 392: 'student', 393: 'administrator', 394: 'other', 395: 'engineer', 396: 'student', 397: 'other', 398: 'other', 399: 'administrator', 400: 'healthcare', 401: 'engineer', 402: 'other', 403: 'programmer', 404: 'healthcare', 405: 'educator', 406: 'engineer', 407: 'student', 408: 'administrator', 409: 'artist', 410: 'educator', 411: 'educator', 412: 'educator', 413: 'programmer', 414: 'educator', 415: 'student', 416: 'other', 417: 'none', 418: 'lawyer', 419: 'educator', 420: 'programmer', 421: 'entertainment', 422: 'other', 423: 'marketing', 424: 'student', 425: 'educator', 426: 'doctor', 427: 'student', 428: 'student', 429: 'scientist', 430: 'marketing', 431: 'entertainment', 432: 'artist', 433: 'student', 434: 'engineer', 435: 'administrator', 436: 'other', 437: 'administrator', 438: 'administrator', 439: 'other', 440: 'technician', 441: 'student', 442: 'salesman', 443: 'lawyer', 444: 'writer', 445: 'educator', 446: 'administrator', 447: 'entertainment', 448: 'librarian', 449: 'educator', 450: 'student', 451: 'administrator', 452: 'student', 453: 'other', 454: 'administrator', 455: 'technician', 456: 'salesman', 457: 'technician', 458: 'student', 459: 'other', 460: 'student', 461: 'student', 462: 'healthcare', 463: 'writer', 464: 'other', 465: 'student', 466: 'engineer', 467: 'engineer', 468: 'educator', 469: 'programmer', 470: 'student', 471: 'student', 472: 'student', 473: 'executive', 474: 'programmer', 475: 'student', 476: 'student', 477: 'other', 478: 'educator', 479: 'retired', 480: 'retired', 481: 'student', 482: 'scientist', 483: 'student', 484: 'educator', 485: 'educator', 486: 'engineer', 487: 'technician', 488: 'other', 489: 'artist', 490: 'writer', 491: 'educator', 492: 'engineer', 493: 'administrator', 494: 'engineer', 495: 'student', 496: 'student', 497: 'writer', 498: 'programmer', 499: 'administrator', 500: 'student', 501: 'student', 502: 'writer', 503: 'writer', 504: 'other', 505: 'programmer', 506: 'writer', 507: 'marketing', 508: 'administrator', 509: 'other', 510: 'student', 511: 'other', 512: 'administrator', 513: 'programmer', 514: 'marketing', 515: 'librarian', 516: 'student', 517: 'writer', 518: 'other', 519: 'healthcare', 520: 'student', 521: 'engineer', 522: 'administrator', 523: 'educator', 524: 'administrator', 525: 'marketing', 526: 'librarian', 527: 'student', 528: 'administrator', 529: 'engineer', 530: 'salesman', 531: 'student', 532: 'librarian', 533: 'student', 534: 'educator', 535: 'engineer', 536: 'engineer', 537: 'scientist', 538: 'administrator', 539: 'engineer', 540: 'student', 541: 'student', 542: 'scientist', 543: 'other', 544: 'technician', 545: 'executive', 546: 'educator', 547: 'writer', 548: 'scientist', 549: 'student', 550: 'programmer', 551: 'other', 552: 'educator', 553: 'scientist', 554: 'educator', 555: 'educator', 556: 'writer', 557: 'writer', 558: 'executive', 559: 'student', 560: 'engineer', 561: 'administrator', 562: 'librarian', 563: 'retired', 564: 'student', 565: 'student', 566: 'entertainment', 567: 'educator', 568: 'educator', 569: 'educator', 570: 'artist', 571: 'educator', 572: 'retired', 573: 'educator', 574: 'marketing', 575: 'executive', 576: 'student', 577: 'administrator', 578: 'educator', 579: 'student', 580: 'other', 581: 'student', 582: 'engineer', 583: 'student', 584: 'librarian', 585: 'student', 586: 'other', 587: 'student', 588: 'lawyer', 589: 'educator', 590: 'librarian', 591: 'student', 592: 'educator', 593: 'educator', 594: 'programmer', 595: 'artist', 596: 'other', 597: 'marketing', 598: 'student', 599: 'programmer', 600: 'artist', 601: 'other', 602: 'programmer', 603: 'educator', 604: 'engineer', 605: 'programmer', 606: 'healthcare', 607: 'other', 608: 'student', 609: 'student', 610: 'librarian', 611: 'educator', 612: 'marketing', 613: 'educator', 614: 'educator', 615: 'scientist', 616: 'writer', 617: 'student', 618: 'student', 619: 'writer', 620: 'student', 621: 'programmer', 622: 'educator', 623: 'student', 624: 'programmer', 625: 'scientist', 626: 'engineer', 627: 'none', 628: 'other', 629: 'healthcare', 630: 'student', 631: 'student', 632: 'programmer', 633: 'engineer', 634: 'other', 635: 'educator', 636: 'other', 637: 'engineer', 638: 'librarian', 639: 'student', 640: 'student', 641: 'student', 642: 'scientist', 643: 'retired', 644: 'programmer', 645: 'student', 646: 'educator', 647: 'engineer', 648: 'student', 649: 'engineer', 650: 'retired', 651: 'other', 652: 'executive', 653: 'student', 654: 'healthcare', 655: 'educator', 656: 'none', 657: 'programmer', 658: 'educator', 659: 'student', 660: 'programmer', 661: 'librarian', 662: 'other', 663: 'engineer', 664: 'administrator', 665: 'administrator', 666: 'librarian', 667: 'writer', 668: 'other', 669: 'technician', 670: 'programmer', 671: 'administrator', 672: 'educator', 673: 'student', 674: 'other', 675: 'programmer', 676: 'other', 677: 'educator', 678: 'student', 679: 'lawyer', 680: 'marketing', 681: 'programmer', 682: 'librarian', 683: 'student', 684: 'librarian', 685: 'educator', 686: 'healthcare', 687: 'administrator', 688: 'other', 689: 'salesman', 690: 'educator', 691: 'engineer', 692: 'healthcare', 693: 'programmer', 694: 'writer', 695: 'other', 696: 'other', 697: 'programmer', 698: 'other', 699: 'student', 700: 'librarian', 701: 'other', 702: 'educator', 703: 'librarian', 704: 'student', 705: 'student', 706: 'librarian', 707: 'homemaker', 708: 'other', 709: 'student', 710: 'student', 711: 'student', 712: 'other', 713: 'engineer', 714: 'technician', 715: 'administrator', 716: 'technician', 717: 'technician', 718: 'other', 719: 'administrator', 720: 'entertainment', 721: 'homemaker', 722: 'executive', 723: 'executive', 724: 'student', 725: 'administrator', 726: 'student', 727: 'executive', 728: 'student', 729: 'scientist', 730: 'educator', 731: 'other', 732: 'other', 733: 'other', 734: 'healthcare', 735: 'writer', 736: 'programmer', 737: 'technician', 738: 'technician', 739: 'educator', 740: 'writer', 741: 'student', 742: 'programmer', 743: 'marketing', 744: 'writer', 745: 'engineer', 746: 'other', 747: 'administrator', 748: 'other', 749: 'administrator', 750: 'other', 751: 'retired', 752: 'salesman', 753: 'librarian', 754: 'educator', 755: 'none', 756: 'student', 757: 'student', 758: 'student', 759: 'other', 760: 'student', 761: 'administrator', 762: 'scientist', 763: 'educator', 764: 'student', 765: 'other', 766: 'engineer', 767: 'administrator', 768: 'executive', 769: 'student', 770: 'student', 771: 'writer', 772: 'student', 773: 'student', 774: 'executive', 775: 'librarian', 776: 'programmer', 777: 'student', 778: 'student', 779: 'programmer', 780: 'student', 781: 'artist', 782: 'marketing', 783: 'administrator', 784: 'engineer', 785: 'engineer', 786: 'student', 787: 'administrator', 788: 'other', 789: 'technician', 790: 'educator', 791: 'programmer', 792: 'student', 793: 'educator', 794: 'programmer', 795: 'writer', 796: 'other', 797: 'writer', 798: 'administrator', 799: 'programmer', 800: 'writer', 801: 'administrator', 802: 'administrator', 803: 'educator', 804: 'other', 805: 'marketing', 806: 'healthcare', 807: 'salesman', 808: 'marketing', 809: 'other', 810: 'educator', 811: 'technician', 812: 'student', 813: 'other', 814: 'other', 815: 'other', 816: 'student', 817: 'librarian', 818: 'administrator', 819: 'student', 820: 'engineer', 821: 'librarian', 822: 'artist', 823: 'other', 824: 'engineer', 825: 'artist', 826: 'engineer', 827: 'librarian', 828: 'writer', 829: 'programmer', 830: 'other', 831: 'technician', 832: 'writer', 833: 'other', 834: 'executive', 835: 'artist', 836: 'artist', 837: 'student', 838: 'entertainment', 839: 'artist', 840: 'doctor', 841: 'writer', 842: 'librarian', 843: 'engineer', 844: 'doctor', 845: 'lawyer', 846: 'student', 847: 'engineer', 848: 'student', 849: 'technician', 850: 'other', 851: 'administrator', 852: 'writer', 853: 'student', 854: 'librarian', 855: 'marketing', 856: 'administrator', 857: 'educator', 858: 'other', 859: 'retired', 860: 'student', 861: 'executive', 862: 'student', 863: 'programmer', 864: 'artist', 865: 'other', 866: 'scientist', 867: 'programmer', 868: 'student', 869: 'student', 870: 'executive', 871: 'student', 872: 'administrator', 873: 'scientist', 874: 'student', 875: 'other', 876: 'other', 877: 'educator', 878: 'administrator', 879: 'student', 880: 'marketing', 881: 'engineer', 882: 'librarian', 883: 'engineer', 884: 'other', 885: 'student', 886: 'student', 887: 'scientist', 888: 'technician', 889: 'student', 890: 'administrator', 891: 'other', 892: 'student', 893: 'educator', 894: 'librarian', 895: 'writer', 896: 'other', 897: 'homemaker', 898: 'other', 899: 'retired', 900: 'executive', 901: 'artist', 902: 'educator', 903: 'student', 904: 'other', 905: 'librarian', 906: 'other', 907: 'librarian', 908: 'educator', 909: 'healthcare', 910: 'writer', 911: 'other', 912: 'student', 913: 'other', 914: 'entertainment', 915: 'engineer', 916: 'student', 917: 'scientist', 918: 'other', 919: 'artist', 920: 'student', 921: 'administrator', 922: 'student', 923: 'other', 924: 'salesman', 925: 'entertainment', 926: 'programmer', 927: 'student', 928: 'scientist', 929: 'scientist', 930: 'educator', 931: 'educator', 932: 'student', 933: 'engineer', 934: 'doctor', 935: 'other', 936: 'educator', 937: 'technician', 938: 'student', 939: 'administrator', 940: 'student', 941: 'librarian', 942: 'student'}\n",
      "{0: 'M', 1: 'F', 2: 'M', 3: 'M', 4: 'F', 5: 'M', 6: 'M', 7: 'M', 8: 'M', 9: 'M', 10: 'F', 11: 'F', 12: 'M', 13: 'M', 14: 'F', 15: 'M', 16: 'M', 17: 'F', 18: 'M', 19: 'F', 20: 'M', 21: 'M', 22: 'F', 23: 'F', 24: 'M', 25: 'M', 26: 'F', 27: 'M', 28: 'M', 29: 'M', 30: 'M', 31: 'F', 32: 'M', 33: 'F', 34: 'F', 35: 'F', 36: 'M', 37: 'F', 38: 'M', 39: 'M', 40: 'M', 41: 'M', 42: 'F', 43: 'M', 44: 'M', 45: 'F', 46: 'M', 47: 'M', 48: 'F', 49: 'M', 50: 'M', 51: 'F', 52: 'M', 53: 'M', 54: 'M', 55: 'M', 56: 'M', 57: 'M', 58: 'M', 59: 'M', 60: 'M', 61: 'F', 62: 'M', 63: 'M', 64: 'F', 65: 'M', 66: 'M', 67: 'M', 68: 'M', 69: 'M', 70: 'M', 71: 'F', 72: 'M', 73: 'M', 74: 'M', 75: 'M', 76: 'M', 77: 'M', 78: 'F', 79: 'F', 80: 'M', 81: 'M', 82: 'M', 83: 'M', 84: 'M', 85: 'M', 86: 'M', 87: 'F', 88: 'F', 89: 'M', 90: 'M', 91: 'M', 92: 'M', 93: 'M', 94: 'M', 95: 'F', 96: 'M', 97: 'F', 98: 'M', 99: 'M', 100: 'M', 101: 'M', 102: 'M', 103: 'M', 104: 'M', 105: 'M', 106: 'M', 107: 'M', 108: 'M', 109: 'M', 110: 'M', 111: 'M', 112: 'M', 113: 'M', 114: 'M', 115: 'M', 116: 'M', 117: 'M', 118: 'M', 119: 'F', 120: 'M', 121: 'F', 122: 'F', 123: 'M', 124: 'M', 125: 'F', 126: 'M', 127: 'F', 128: 'F', 129: 'M', 130: 'F', 131: 'M', 132: 'M', 133: 'M', 134: 'M', 135: 'M', 136: 'M', 137: 'M', 138: 'M', 139: 'F', 140: 'M', 141: 'M', 142: 'M', 143: 'M', 144: 'M', 145: 'M', 146: 'F', 147: 'M', 148: 'F', 149: 'F', 150: 'F', 151: 'F', 152: 'M', 153: 'M', 154: 'F', 155: 'M', 156: 'M', 157: 'M', 158: 'F', 159: 'M', 160: 'M', 161: 'M', 162: 'M', 163: 'M', 164: 'F', 165: 'M', 166: 'M', 167: 'M', 168: 'F', 169: 'F', 170: 'F', 171: 'M', 172: 'M', 173: 'F', 174: 'F', 175: 'M', 176: 'M', 177: 'M', 178: 'M', 179: 'F', 180: 'M', 181: 'M', 182: 'M', 183: 'M', 184: 'F', 185: 'F', 186: 'M', 187: 'M', 188: 'M', 189: 'M', 190: 'M', 191: 'M', 192: 'M', 193: 'M', 194: 'M', 195: 'M', 196: 'M', 197: 'F', 198: 'M', 199: 'M', 200: 'M', 201: 'F', 202: 'F', 203: 'F', 204: 'M', 205: 'F', 206: 'M', 207: 'M', 208: 'F', 209: 'M', 210: 'M', 211: 'F', 212: 'M', 213: 'F', 214: 'M', 215: 'M', 216: 'M', 217: 'M', 218: 'M', 219: 'M', 220: 'M', 221: 'M', 222: 'F', 223: 'F', 224: 'F', 225: 'M', 226: 'M', 227: 'F', 228: 'F', 229: 'F', 230: 'M', 231: 'M', 232: 'M', 233: 'M', 234: 'M', 235: 'F', 236: 'M', 237: 'F', 238: 'M', 239: 'F', 240: 'F', 241: 'M', 242: 'M', 243: 'M', 244: 'M', 245: 'M', 246: 'M', 247: 'M', 248: 'M', 249: 'M', 250: 'M', 251: 'M', 252: 'F', 253: 'M', 254: 'M', 255: 'F', 256: 'M', 257: 'F', 258: 'M', 259: 'F', 260: 'M', 261: 'F', 262: 'M', 263: 'F', 264: 'M', 265: 'F', 266: 'M', 267: 'M', 268: 'F', 269: 'F', 270: 'M', 271: 'M', 272: 'F', 273: 'F', 274: 'M', 275: 'M', 276: 'F', 277: 'F', 278: 'M', 279: 'F', 280: 'F', 281: 'M', 282: 'M', 283: 'M', 284: 'M', 285: 'M', 286: 'M', 287: 'M', 288: 'M', 289: 'M', 290: 'M', 291: 'F', 292: 'M', 293: 'M', 294: 'M', 295: 'F', 296: 'F', 297: 'M', 298: 'M', 299: 'F', 300: 'M', 301: 'M', 302: 'M', 303: 'F', 304: 'M', 305: 'M', 306: 'M', 307: 'M', 308: 'M', 309: 'M', 310: 'M', 311: 'M', 312: 'M', 313: 'F', 314: 'M', 315: 'F', 316: 'M', 317: 'M', 318: 'M', 319: 'M', 320: 'F', 321: 'M', 322: 'M', 323: 'F', 324: 'M', 325: 'M', 326: 'M', 327: 'M', 328: 'M', 329: 'F', 330: 'M', 331: 'M', 332: 'M', 333: 'M', 334: 'M', 335: 'M', 336: 'M', 337: 'F', 338: 'M', 339: 'M', 340: 'F', 341: 'F', 342: 'M', 343: 'F', 344: 'F', 345: 'M', 346: 'M', 347: 'F', 348: 'M', 349: 'M', 350: 'M', 351: 'F', 352: 'M', 353: 'F', 354: 'M', 355: 'F', 356: 'M', 357: 'M', 358: 'M', 359: 'M', 360: 'M', 361: 'F', 362: 'M', 363: 'M', 364: 'M', 365: 'F', 366: 'M', 367: 'M', 368: 'M', 369: 'M', 370: 'M', 371: 'F', 372: 'F', 373: 'M', 374: 'M', 375: 'F', 376: 'M', 377: 'M', 378: 'M', 379: 'M', 380: 'M', 381: 'M', 382: 'M', 383: 'M', 384: 'M', 385: 'M', 386: 'M', 387: 'M', 388: 'F', 389: 'F', 390: 'M', 391: 'M', 392: 'M', 393: 'M', 394: 'M', 395: 'M', 396: 'M', 397: 'M', 398: 'M', 399: 'F', 400: 'F', 401: 'M', 402: 'M', 403: 'F', 404: 'F', 405: 'M', 406: 'M', 407: 'M', 408: 'M', 409: 'F', 410: 'M', 411: 'M', 412: 'M', 413: 'M', 414: 'M', 415: 'F', 416: 'F', 417: 'F', 418: 'M', 419: 'M', 420: 'F', 421: 'M', 422: 'M', 423: 'F', 424: 'M', 425: 'M', 426: 'M', 427: 'M', 428: 'M', 429: 'M', 430: 'M', 431: 'M', 432: 'M', 433: 'F', 434: 'M', 435: 'F', 436: 'F', 437: 'F', 438: 'F', 439: 'M', 440: 'M', 441: 'M', 442: 'M', 443: 'F', 444: 'M', 445: 'M', 446: 'M', 447: 'M', 448: 'M', 449: 'F', 450: 'M', 451: 'M', 452: 'M', 453: 'M', 454: 'M', 455: 'M', 456: 'F', 457: 'M', 458: 'M', 459: 'F', 460: 'M', 461: 'F', 462: 'F', 463: 'M', 464: 'M', 465: 'M', 466: 'M', 467: 'M', 468: 'M', 469: 'M', 470: 'M', 471: 'M', 472: 'M', 473: 'M', 474: 'M', 475: 'M', 476: 'F', 477: 'M', 478: 'M', 479: 'M', 480: 'M', 481: 'F', 482: 'M', 483: 'M', 484: 'F', 485: 'M', 486: 'M', 487: 'M', 488: 'M', 489: 'F', 490: 'F', 491: 'M', 492: 'M', 493: 'F', 494: 'M', 495: 'F', 496: 'M', 497: 'M', 498: 'M', 499: 'M', 500: 'M', 501: 'M', 502: 'F', 503: 'F', 504: 'F', 505: 'M', 506: 'F', 507: 'M', 508: 'M', 509: 'M', 510: 'M', 511: 'M', 512: 'M', 513: 'M', 514: 'M', 515: 'F', 516: 'M', 517: 'F', 518: 'M', 519: 'M', 520: 'M', 521: 'M', 522: 'F', 523: 'M', 524: 'F', 525: 'M', 526: 'M', 527: 'M', 528: 'F', 529: 'M', 530: 'F', 531: 'M', 532: 'M', 533: 'M', 534: 'F', 535: 'M', 536: 'M', 537: 'M', 538: 'F', 539: 'M', 540: 'F', 541: 'M', 542: 'M', 543: 'F', 544: 'M', 545: 'M', 546: 'M', 547: 'M', 548: 'M', 549: 'F', 550: 'M', 551: 'M', 552: 'M', 553: 'M', 554: 'F', 555: 'F', 556: 'F', 557: 'F', 558: 'M', 559: 'M', 560: 'M', 561: 'F', 562: 'F', 563: 'M', 564: 'M', 565: 'M', 566: 'M', 567: 'M', 568: 'M', 569: 'M', 570: 'M', 571: 'M', 572: 'M', 573: 'M', 574: 'M', 575: 'M', 576: 'F', 577: 'M', 578: 'M', 579: 'M', 580: 'M', 581: 'M', 582: 'M', 583: 'M', 584: 'M', 585: 'M', 586: 'M', 587: 'F', 588: 'M', 589: 'M', 590: 'F', 591: 'M', 592: 'F', 593: 'M', 594: 'M', 595: 'M', 596: 'M', 597: 'F', 598: 'F', 599: 'M', 600: 'F', 601: 'F', 602: 'M', 603: 'M', 604: 'M', 605: 'M', 606: 'F', 607: 'M', 608: 'F', 609: 'M', 610: 'M', 611: 'M', 612: 'F', 613: 'M', 614: 'M', 615: 'M', 616: 'F', 617: 'F', 618: 'M', 619: 'F', 620: 'M', 621: 'M', 622: 'F', 623: 'M', 624: 'M', 625: 'M', 626: 'M', 627: 'M', 628: 'F', 629: 'F', 630: 'F', 631: 'M', 632: 'M', 633: 'M', 634: 'M', 635: 'M', 636: 'M', 637: 'M', 638: 'F', 639: 'M', 640: 'M', 641: 'F', 642: 'M', 643: 'M', 644: 'M', 645: 'F', 646: 'M', 647: 'M', 648: 'M', 649: 'M', 650: 'M', 651: 'M', 652: 'M', 653: 'F', 654: 'F', 655: 'M', 656: 'F', 657: 'M', 658: 'M', 659: 'M', 660: 'M', 661: 'M', 662: 'M', 663: 'M', 664: 'M', 665: 'M', 666: 'M', 667: 'F', 668: 'M', 669: 'M', 670: 'M', 671: 'F', 672: 'M', 673: 'F', 674: 'M', 675: 'M', 676: 'M', 677: 'M', 678: 'F', 679: 'M', 680: 'F', 681: 'M', 682: 'M', 683: 'M', 684: 'F', 685: 'M', 686: 'F', 687: 'F', 688: 'M', 689: 'M', 690: 'M', 691: 'M', 692: 'F', 693: 'M', 694: 'M', 695: 'M', 696: 'M', 697: 'F', 698: 'M', 699: 'M', 700: 'F', 701: 'M', 702: 'M', 703: 'F', 704: 'F', 705: 'M', 706: 'F', 707: 'F', 708: 'M', 709: 'M', 710: 'F', 711: 'F', 712: 'F', 713: 'M', 714: 'M', 715: 'F', 716: 'M', 717: 'M', 718: 'F', 719: 'F', 720: 'F', 721: 'F', 722: 'M', 723: 'M', 724: 'M', 725: 'F', 726: 'M', 727: 'M', 728: 'M', 729: 'F', 730: 'F', 731: 'F', 732: 'F', 733: 'F', 734: 'F', 735: 'F', 736: 'M', 737: 'M', 738: 'M', 739: 'F', 740: 'M', 741: 'M', 742: 'M', 743: 'M', 744: 'M', 745: 'M', 746: 'M', 747: 'M', 748: 'M', 749: 'M', 750: 'F', 751: 'M', 752: 'M', 753: 'F', 754: 'F', 755: 'F', 756: 'M', 757: 'M', 758: 'F', 759: 'F', 760: 'M', 761: 'M', 762: 'M', 763: 'F', 764: 'M', 765: 'M', 766: 'M', 767: 'M', 768: 'M', 769: 'M', 770: 'M', 771: 'M', 772: 'M', 773: 'M', 774: 'M', 775: 'M', 776: 'M', 777: 'M', 778: 'M', 779: 'M', 780: 'M', 781: 'F', 782: 'M', 783: 'M', 784: 'M', 785: 'F', 786: 'F', 787: 'M', 788: 'M', 789: 'M', 790: 'M', 791: 'M', 792: 'M', 793: 'M', 794: 'M', 795: 'F', 796: 'F', 797: 'F', 798: 'F', 799: 'M', 800: 'M', 801: 'M', 802: 'M', 803: 'M', 804: 'F', 805: 'M', 806: 'F', 807: 'M', 808: 'F', 809: 'F', 810: 'F', 811: 'M', 812: 'F', 813: 'M', 814: 'M', 815: 'M', 816: 'M', 817: 'M', 818: 'M', 819: 'M', 820: 'M', 821: 'F', 822: 'M', 823: 'M', 824: 'M', 825: 'M', 826: 'F', 827: 'M', 828: 'M', 829: 'M', 830: 'M', 831: 'M', 832: 'M', 833: 'M', 834: 'F', 835: 'M', 836: 'F', 837: 'M', 838: 'F', 839: 'M', 840: 'M', 841: 'M', 842: 'M', 843: 'M', 844: 'M', 845: 'M', 846: 'M', 847: 'M', 848: 'F', 849: 'M', 850: 'M', 851: 'M', 852: 'M', 853: 'F', 854: 'M', 855: 'F', 856: 'F', 857: 'M', 858: 'F', 859: 'F', 860: 'F', 861: 'M', 862: 'M', 863: 'M', 864: 'M', 865: 'M', 866: 'M', 867: 'M', 868: 'M', 869: 'M', 870: 'M', 871: 'F', 872: 'F', 873: 'M', 874: 'F', 875: 'M', 876: 'M', 877: 'F', 878: 'F', 879: 'M', 880: 'M', 881: 'M', 882: 'M', 883: 'M', 884: 'F', 885: 'M', 886: 'F', 887: 'M', 888: 'M', 889: 'M', 890: 'F', 891: 'M', 892: 'M', 893: 'M', 894: 'F', 895: 'M', 896: 'M', 897: 'M', 898: 'M', 899: 'M', 900: 'M', 901: 'F', 902: 'M', 903: 'F', 904: 'M', 905: 'M', 906: 'F', 907: 'F', 908: 'F', 909: 'M', 910: 'F', 911: 'M', 912: 'M', 913: 'F', 914: 'M', 915: 'M', 916: 'F', 917: 'M', 918: 'M', 919: 'F', 920: 'F', 921: 'F', 922: 'M', 923: 'M', 924: 'F', 925: 'M', 926: 'M', 927: 'M', 928: 'M', 929: 'F', 930: 'M', 931: 'M', 932: 'M', 933: 'M', 934: 'M', 935: 'M', 936: 'M', 937: 'F', 938: 'F', 939: 'M', 940: 'M', 941: 'F', 942: 'M'}\n"
     ]
    }
   ],
   "source": [
    "users = pd.read_csv('u.user', header=None, sep='|', names=['uid', 'age', 'gender', 'occup', 'zip'])\n",
    "users.head()\n",
    "gender_dict = {}\n",
    "age_dict = {}\n",
    "occup_dict = {}\n",
    "for i in range(len(users.uid)):\n",
    "    gender_dict[users.uid[i] - 1] = users.gender[i]\n",
    "    occup_dict[users.uid[i] - 1] = users.occup[i]\n",
    "    age_dict[users.uid[i] - 1] = users.age[i]\n",
    "\n",
    "print(age_dict)\n",
    "print(occup_dict)\n",
    "print(gender_dict)\n",
    "# np.save('user_gender', gender_dict)\n"
   ]
  },
  {
   "cell_type": "markdown",
   "metadata": {
    "pycharm": {
     "name": "#%% md\n"
    }
   },
   "source": [
    "# data info"
   ]
  },
  {
   "cell_type": "code",
   "execution_count": 22,
   "metadata": {
    "pycharm": {
     "name": "#%%\n"
    }
   },
   "outputs": [
    {
     "name": "stdout",
     "output_type": "stream",
     "text": [
      "Number of ratings: 100000\n",
      "Number of users: 943\n",
      "Number of movies: 1682\n",
      "943\n"
     ]
    }
   ],
   "source": [
    "print('Number of ratings:', len(ratings))\n",
    "print('Number of users:', len(ratings.uid.unique()))\n",
    "print('Number of movies:', len(ratings.iid.unique()))\n",
    "\n",
    "print(max(ratings.uid.unique()))"
   ]
  },
  {
   "cell_type": "code",
   "execution_count": 23,
   "metadata": {
    "pycharm": {
     "name": "#%%\n"
    }
   },
   "outputs": [
    {
     "name": "stdout",
     "output_type": "stream",
     "text": [
      "male: 670\n",
      "female: 273\n"
     ]
    }
   ],
   "source": [
    "print('male:', len(users[users.gender == 'M']))\n",
    "print('female:', len(users[users.gender == 'F']))"
   ]
  },
  {
   "cell_type": "code",
   "execution_count": 24,
   "metadata": {
    "collapsed": false,
    "pycharm": {
     "name": "#%%\n"
    }
   },
   "outputs": [
    {
     "name": "stdout",
     "output_type": "stream",
     "text": [
      "     iid  val  tag\n",
      "uid               \n",
      "1    272  272  272\n",
      "2     62   62   62\n",
      "3     54   54   54\n",
      "4     24   24   24\n",
      "5    175  175  175\n",
      "..   ...  ...  ...\n",
      "939   49   49   49\n",
      "940  107  107  107\n",
      "941   22   22   22\n",
      "942   79   79   79\n",
      "943  168  168  168\n",
      "\n",
      "[943 rows x 3 columns]\n"
     ]
    }
   ],
   "source": [
    "print(ratings.groupby('uid').agg('count'))"
   ]
  },
  {
   "cell_type": "markdown",
   "metadata": {
    "pycharm": {
     "name": "#%% md\n"
    }
   },
   "source": [
    "# filter interaction < 5"
   ]
  },
  {
   "cell_type": "code",
   "execution_count": 25,
   "metadata": {
    "pycharm": {
     "name": "#%%\n"
    }
   },
   "outputs": [
    {
     "name": "stdout",
     "output_type": "stream",
     "text": [
      "user: 20\n",
      "item: 1\n"
     ]
    }
   ],
   "source": [
    "print('user:', min(ratings.groupby('uid').agg('count').iid))\n",
    "print('item:', min(ratings.groupby('iid').agg('count').uid))"
   ]
  },
  {
   "cell_type": "code",
   "execution_count": 26,
   "metadata": {
    "pycharm": {
     "name": "#%%\n"
    }
   },
   "outputs": [
    {
     "name": "stdout",
     "output_type": "stream",
     "text": [
      ">>> item:\n"
     ]
    },
    {
     "name": "stderr",
     "output_type": "stream",
     "text": [
      "100%|██████████| 1682/1682 [00:00<00:00, 4967.83it/s] \n"
     ]
    },
    {
     "name": "stdout",
     "output_type": "stream",
     "text": [
      ">>> user:\n"
     ]
    },
    {
     "name": "stderr",
     "output_type": "stream",
     "text": [
      "100%|██████████| 943/943 [00:00<00:00, 235178.30it/s]\n"
     ]
    },
    {
     "name": "stdout",
     "output_type": "stream",
     "text": [
      ">>> item:\n"
     ]
    },
    {
     "name": "stderr",
     "output_type": "stream",
     "text": [
      "100%|██████████| 1349/1349 [00:00<00:00, 228297.13it/s]\n"
     ]
    },
    {
     "name": "stdout",
     "output_type": "stream",
     "text": [
      ">>> user:\n"
     ]
    },
    {
     "name": "stderr",
     "output_type": "stream",
     "text": [
      "100%|██████████| 943/943 [00:00<00:00, 246585.33it/s]\n"
     ]
    }
   ],
   "source": [
    "from tqdm import tqdm\n",
    "\n",
    "low = 5\n",
    "while True:\n",
    "    n_filter = 0\n",
    "    # drop item\n",
    "    print('>>> item:')\n",
    "    user_data = ratings.groupby('iid').agg(list)\n",
    "    for i in tqdm(ratings.iid.unique()):\n",
    "        if len(user_data['uid'][i]) < low:\n",
    "            ratings = ratings[ratings.iid.values != i]\n",
    "            n_filter += 1\n",
    "\n",
    "    # drop user\n",
    "    print('>>> user:')\n",
    "    item_data = ratings.groupby('uid').agg(list)\n",
    "    for i in tqdm(ratings.uid.unique()):\n",
    "        if len(item_data['iid'][i]) < low:\n",
    "            ratings = ratings[ratings.uid.values != i]\n",
    "            n_filter += 1\n",
    "    \n",
    "    # terminate\n",
    "    if n_filter == 0:\n",
    "        break\n",
    "\n",
    "# reset index\n",
    "ratings.reset_index(drop=True, inplace=True)"
   ]
  },
  {
   "cell_type": "code",
   "execution_count": 27,
   "metadata": {
    "collapsed": false,
    "pycharm": {
     "name": "#%%\n"
    }
   },
   "outputs": [
    {
     "name": "stdout",
     "output_type": "stream",
     "text": [
      "user: 19\n",
      "item: 5\n"
     ]
    }
   ],
   "source": [
    "print('user:', min(ratings.groupby('uid').agg('count').iid))\n",
    "print('item:', min(ratings.groupby('iid').agg('count').uid))"
   ]
  },
  {
   "cell_type": "markdown",
   "metadata": {
    "pycharm": {
     "name": "#%% md\n"
    }
   },
   "source": [
    "# squeeze id"
   ]
  },
  {
   "cell_type": "code",
   "execution_count": 28,
   "metadata": {
    "pycharm": {
     "name": "#%%\n"
    }
   },
   "outputs": [
    {
     "name": "stdout",
     "output_type": "stream",
     "text": [
      "user id: 943/943\n",
      "item id: 1620/1349\n"
     ]
    }
   ],
   "source": [
    "print(f'user id: {max(ratings.uid.unique())}/{len(ratings.uid.unique())}')\n",
    "print(f'item id: {max(ratings.iid.unique())}/{len(ratings.iid.unique())}')"
   ]
  },
  {
   "cell_type": "code",
   "execution_count": 29,
   "metadata": {},
   "outputs": [
    {
     "name": "stdout",
     "output_type": "stream",
     "text": [
      "       uid   iid  val        tag\n",
      "0      196   242    3  881250949\n",
      "1      186   302    3  891717742\n",
      "2       22   377    1  878887116\n",
      "3      244    51    2  880606923\n",
      "4      166   346    1  886397596\n",
      "...    ...   ...  ...        ...\n",
      "99282  880   476    3  880175444\n",
      "99283  716   204    5  879795543\n",
      "99284  276  1090    1  874795795\n",
      "99285   13   225    2  882399156\n",
      "99286   12   203    3  879959583\n",
      "\n",
      "[99287 rows x 4 columns]\n"
     ]
    }
   ],
   "source": [
    "print(ratings)"
   ]
  },
  {
   "cell_type": "code",
   "execution_count": 30,
   "metadata": {
    "pycharm": {
     "name": "#%%\n"
    }
   },
   "outputs": [],
   "source": [
    "import numpy as np\n",
    "\n",
    "# squeeze uid\n",
    "ratings.uid -= 1\n",
    "\n",
    "# squeeze iid\n",
    "item_dict = {}\n",
    "for i, ori in enumerate(ratings['iid'].unique()):\n",
    "    item_dict[ori] = i\n",
    "    \n",
    "np.save('item_dict', item_dict)\n",
    "\n",
    "ratings.iid = ratings.iid.map(item_dict)\n",
    "\n",
    "# save file\n",
    "ratings.sort_values(by=['uid', 'iid']).to_csv('ratings.csv', index=False)"
   ]
  },
  {
   "cell_type": "code",
   "execution_count": 32,
   "metadata": {},
   "outputs": [
    {
     "name": "stdout",
     "output_type": "stream",
     "text": [
      "       uid   iid  val\n",
      "0        0     0    1\n",
      "1        0     3    1\n",
      "2        0     6    1\n",
      "3        0     9    1\n",
      "4        0    10    1\n",
      "...    ...   ...  ...\n",
      "99282  942  1025    1\n",
      "99283  942  1058    1\n",
      "99284  942  1061    1\n",
      "99285  942  1077    1\n",
      "99286  942  1179    1\n",
      "\n",
      "[99287 rows x 3 columns]\n"
     ]
    }
   ],
   "source": [
    "import pandas as pd\n",
    "new_pdr = pd.read_csv(\"ratings.csv\")\n",
    "new_pdr = new_pdr[['uid','iid','val']]\n",
    "\n",
    "new_pdr['val'] = 1\n",
    "print(new_pdr)"
   ]
  },
  {
   "cell_type": "code",
   "execution_count": 52,
   "metadata": {},
   "outputs": [
    {
     "name": "stdout",
     "output_type": "stream",
     "text": [
      "       uid   iid val\n",
      "0        0     0   1\n",
      "1        0     6   1\n",
      "2        0     9   1\n",
      "3        0    10   1\n",
      "4        0    12   1\n",
      "...    ...   ...  ..\n",
      "79040  942  1025   1\n",
      "79041  942  1058   1\n",
      "79042  942  1061   1\n",
      "79043  942  1077   1\n",
      "79044  942  1179   1\n",
      "\n",
      "[79045 rows x 3 columns]\n",
      "       uid   iid val\n",
      "0        0     3   1\n",
      "1        0    30   1\n",
      "2        0    59   1\n",
      "3        0    61   1\n",
      "4        0    68   1\n",
      "...    ...   ...  ..\n",
      "20237  942   622   1\n",
      "20238  942   656   1\n",
      "20239  942   870   1\n",
      "20240  942   987   1\n",
      "20241  942  1011   1\n",
      "\n",
      "[20242 rows x 3 columns]\n"
     ]
    }
   ],
   "source": [
    "from tqdm import tqdm\n",
    "import time \n",
    "import pandas as pd\n",
    "import random\n",
    "\n",
    "train_ratio = 0.8\n",
    "train_df = pd.DataFrame([], columns=['uid', 'iid', 'val'])\n",
    "test_df = pd.DataFrame([], columns=['uid', 'iid', 'val'])\n",
    "\n",
    "train_index = []\n",
    "test_index = []\n",
    "\n",
    "\n",
    "for i in range(len(new_pdr.uid.unique())):\n",
    "    t1 = time.time()\n",
    "    indices = new_pdr[new_pdr.uid == i].index\n",
    "    index_list = indices.to_list()\n",
    "    \n",
    "    total = len(indices)\n",
    "\n",
    "    n_train = int(total * train_ratio)\n",
    "    \n",
    "    train_idx = random.sample(index_list, n_train)\n",
    "    test_idx = list(set(index_list) - set(train_idx))\n",
    "    \n",
    "    train_index.extend(train_idx)\n",
    "    test_index.extend(test_idx)\n",
    "    \n",
    "    # if i%1000 == 0:\n",
    "    #     print(i)\n",
    "\n",
    "train_index = np.array(train_index)\n",
    "test_index = np.array(test_index)\n",
    "\n",
    "user_train = new_pdr.iloc[np.sort(train_index), :]\n",
    "user_test = new_pdr.iloc[np.sort(test_index), :]\n",
    "\n",
    "train_df = pd.concat([train_df,user_train], ignore_index=True)\n",
    "test_df = pd.concat([test_df, user_test], ignore_index=True)  \n",
    "\n",
    "print(train_df)\n",
    "print(test_df)\n",
    "\n",
    "# c=9/0\n",
    "# train_df['val'] = np.float16(train_df['rating'])\n",
    "# test_df['val'] = np.float16(test_df['rating'])\n",
    "\n",
    "train_df[['uid', 'iid', 'val']].to_csv('train.csv', index=False)\n",
    "test_df[['uid', 'iid', 'val']].to_csv('test.csv', index=False)"
   ]
  },
  {
   "cell_type": "markdown",
   "metadata": {
    "pycharm": {
     "name": "#%% md\n"
    }
   },
   "source": [
    "# divide train:test"
   ]
  },
  {
   "cell_type": "code",
   "execution_count": 50,
   "metadata": {
    "collapsed": false,
    "pycharm": {
     "name": "#%%\n"
    }
   },
   "outputs": [
    {
     "name": "stdout",
     "output_type": "stream",
     "text": [
      "user id: 942/943\n",
      "item id: 1348/1349\n"
     ]
    }
   ],
   "source": [
    "print(f'user id: {max(ratings.uid.unique())}/{len(ratings.uid.unique())}')\n",
    "print(f'item id: {max(ratings.iid.unique())}/{len(ratings.iid.unique())}')"
   ]
  },
  {
   "cell_type": "code",
   "execution_count": 21,
   "metadata": {
    "collapsed": false,
    "pycharm": {
     "name": "#%%\n"
    }
   },
   "outputs": [
    {
     "name": "stdout",
     "output_type": "stream",
     "text": [
      "       uid   iid  val        tag\n",
      "0        0     0    5  889751633\n",
      "1        0     3    4  878543275\n",
      "2        0     6    4  878542441\n",
      "3        0     9    5  878543541\n",
      "4        0    10    4  874965954\n",
      "...    ...   ...  ...        ...\n",
      "99282  942  1025    4  888640250\n",
      "99283  942  1058    3  888640250\n",
      "99284  942  1061    1  888640027\n",
      "99285  942  1077    3  888640275\n",
      "99286  942  1179    4  888639954\n",
      "\n",
      "[99287 rows x 4 columns]\n"
     ]
    }
   ],
   "source": [
    "import pandas as pd\n",
    "ll = pd.read_csv(\"ratings.csv\")\n",
    "print(ll)"
   ]
  },
  {
   "cell_type": "code",
   "execution_count": 54,
   "metadata": {
    "collapsed": false,
    "pycharm": {
     "name": "#%%\n"
    }
   },
   "outputs": [
    {
     "name": "stdout",
     "output_type": "stream",
     "text": [
      "       uid   iid  val\n",
      "0        0     0    1\n",
      "1        0     6    1\n",
      "2        0     9    1\n",
      "3        0    10    1\n",
      "4        0    12    1\n",
      "...    ...   ...  ...\n",
      "79040  942  1025    1\n",
      "79041  942  1058    1\n",
      "79042  942  1061    1\n",
      "79043  942  1077    1\n",
      "79044  942  1179    1\n",
      "\n",
      "[79045 rows x 3 columns]\n"
     ]
    }
   ],
   "source": [
    "import pandas as pd\n",
    "train_data = pd.read_csv(\"train.csv\")\n",
    "print(train_data)"
   ]
  },
  {
   "cell_type": "code",
   "execution_count": 12,
   "metadata": {},
   "outputs": [
    {
     "name": "stdout",
     "output_type": "stream",
     "text": [
      "0          0\n",
      "1          0\n",
      "2          0\n",
      "3          0\n",
      "4          0\n",
      "        ... \n",
      "79039    942\n",
      "79040    942\n",
      "79041    942\n",
      "79042    942\n",
      "79043    942\n",
      "Name: 0, Length: 79044, dtype: int64\n"
     ]
    }
   ],
   "source": [
    "print(train_data.iloc[:, 0])"
   ]
  },
  {
   "cell_type": "code",
   "execution_count": 55,
   "metadata": {},
   "outputs": [],
   "source": [
    "user_num = train_data['uid'].max() + 1\n",
    "item_num = train_data['iid'].max() + 1\n",
    "\n",
    "# train_data = train_data.values.tolist()\n",
    "train_data = train_data.values.tolist()\n",
    "\n",
    "pos_dict = {}\n",
    "\n",
    "for x in train_data:\n",
    "    if x[0] not in pos_dict.keys():\n",
    "        pos_dict[x[0]] = []\n",
    "    pos_dict[x[0]].append(x[1])\n",
    "\n",
    "np.save('pos_dict.npy', pos_dict)"
   ]
  },
  {
   "cell_type": "code",
   "execution_count": 56,
   "metadata": {},
   "outputs": [
    {
     "name": "stdout",
     "output_type": "stream",
     "text": [
      "[0, 6, 9, 10, 12, 13, 14, 22, 23, 24, 26, 29, 31, 32, 33, 34, 38, 39, 44, 46, 47, 49, 52, 53, 56, 64, 65, 71, 73, 75, 76, 77, 79, 83, 86, 88, 93, 94, 100, 106, 112, 113, 116, 117, 118, 122, 130, 139, 146, 147, 148, 156, 157, 166, 169, 170, 176, 177, 181, 182, 188, 191, 195, 199, 203, 208, 209, 215, 216, 217, 218, 220, 221, 224, 229, 233, 235, 239, 247, 250, 253, 254, 256, 260, 263, 269, 275, 277, 288, 292, 296, 297, 303, 305, 307, 311, 313, 317, 320, 321, 324, 328, 329, 330, 337, 338, 347, 351, 356, 357, 359, 363, 367, 371, 373, 379, 382, 385, 387, 390, 398, 402, 404, 407, 422, 431, 442, 443, 446, 450, 460, 465, 467, 469, 478, 489, 490, 497, 499, 500, 501, 504, 519, 520, 524, 525, 527, 532, 538, 541, 543, 544, 546, 549, 552, 553, 554, 563, 568, 574, 586, 588, 592, 595, 608, 609, 611, 619, 621, 642, 655, 658, 661, 681, 697, 712, 715, 716, 717, 725, 731, 748, 760, 765, 766, 768, 785, 793, 805, 808, 843, 848, 850, 851, 856, 858, 892, 910, 918, 922, 923, 926, 934, 963, 980, 984, 987, 1030, 1040, 1139, 1145, 1175, 1209, 1213, 1236, 1240]\n"
     ]
    }
   ],
   "source": [
    "d = np.load('pos_dict.npy', allow_pickle=True).item()\n",
    "print(d[0])"
   ]
  },
  {
   "cell_type": "code",
   "execution_count": 4,
   "metadata": {},
   "outputs": [
    {
     "name": "stdout",
     "output_type": "stream",
     "text": [
      "torch.Size([3])\n",
      "tensor(2.1972)\n"
     ]
    }
   ],
   "source": [
    "import torch\n",
    "\n",
    "t = torch.tensor([3,3,1])\n",
    "print(t.shape)\n",
    "print(torch.log(t).sum())"
   ]
  },
  {
   "cell_type": "code",
   "execution_count": 12,
   "metadata": {},
   "outputs": [],
   "source": [
    "import numpy as np\n",
    "def hit(gt_items, pred_items):\n",
    "    hr = 0\n",
    "    for gt_item in gt_items:\n",
    "        if gt_item in pred_items:\n",
    "            hr = hr + 1\n",
    "\n",
    "    return hr/len(gt_items)\n",
    "\n",
    "def ndcg(gt_items, pred_items):\n",
    "    dcg = 0\n",
    "    idcg = 0\n",
    "    \n",
    "    for gt_item in gt_items:\n",
    "        if gt_item in pred_items:\n",
    "            index = pred_items.index(gt_item)\n",
    "            dcg = dcg + np.reciprocal(np.log2(index+2))\n",
    "            \n",
    "    for index in range(len(gt_items)):\n",
    "        idcg = idcg + np.reciprocal(np.log2(index+2))\n",
    "    \n",
    "    print(dcg)\n",
    "    print(idcg)\n",
    "            \n",
    "    return dcg/idcg"
   ]
  },
  {
   "cell_type": "code",
   "execution_count": 17,
   "metadata": {},
   "outputs": [
    {
     "name": "stdout",
     "output_type": "stream",
     "text": [
      "0.2\n",
      "0.6164948724497099\n",
      "4.543559338088346\n",
      "0.13568544539116628\n"
     ]
    }
   ],
   "source": [
    "gt_items = [1,2,3,4,5,6,7,8,9,10]\n",
    "pred_items = [11,11,11,11,11,11,11,9,10]\n",
    "\n",
    "print(hit(gt_items, pred_items))\n",
    "print(ndcg(gt_items, pred_items))"
   ]
  }
 ],
 "metadata": {
  "kernelspec": {
   "display_name": "Python 3.8.10 64-bit",
   "language": "python",
   "name": "python3"
  },
  "language_info": {
   "codemirror_mode": {
    "name": "ipython",
    "version": 3
   },
   "file_extension": ".py",
   "mimetype": "text/x-python",
   "name": "python",
   "nbconvert_exporter": "python",
   "pygments_lexer": "ipython3",
   "version": "3.8.15"
  },
  "orig_nbformat": 4,
  "vscode": {
   "interpreter": {
    "hash": "916dbcbb3f70747c44a77c7bcd40155683ae19c65e1c03b4aa3499c5328201f1"
   }
  }
 },
 "nbformat": 4,
 "nbformat_minor": 2
}
