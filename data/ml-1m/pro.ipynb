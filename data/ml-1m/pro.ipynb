{
 "cells": [
  {
   "cell_type": "markdown",
   "metadata": {
    "pycharm": {
     "name": "#%% md\n"
    }
   },
   "source": [
    "# read data"
   ]
  },
  {
   "cell_type": "code",
   "execution_count": 4,
   "metadata": {
    "pycharm": {
     "name": "#%%\n"
    }
   },
   "outputs": [
    {
     "name": "stderr",
     "output_type": "stream",
     "text": [
      "/tmp/ipykernel_1318085/1367597354.py:3: ParserWarning: Falling back to the 'python' engine because the 'c' engine does not support regex separators (separators > 1 char and different from '\\s+' are interpreted as regex); you can avoid this warning by specifying engine='python'.\n",
      "  ratings = pd.read_csv('ratings.dat', header=None, sep='::', names=['uid', 'iid', 'val', 'tag'])\n"
     ]
    },
    {
     "data": {
      "text/html": [
       "<div>\n",
       "<style scoped>\n",
       "    .dataframe tbody tr th:only-of-type {\n",
       "        vertical-align: middle;\n",
       "    }\n",
       "\n",
       "    .dataframe tbody tr th {\n",
       "        vertical-align: top;\n",
       "    }\n",
       "\n",
       "    .dataframe thead th {\n",
       "        text-align: right;\n",
       "    }\n",
       "</style>\n",
       "<table border=\"1\" class=\"dataframe\">\n",
       "  <thead>\n",
       "    <tr style=\"text-align: right;\">\n",
       "      <th></th>\n",
       "      <th>uid</th>\n",
       "      <th>iid</th>\n",
       "      <th>val</th>\n",
       "      <th>tag</th>\n",
       "    </tr>\n",
       "  </thead>\n",
       "  <tbody>\n",
       "    <tr>\n",
       "      <th>0</th>\n",
       "      <td>1</td>\n",
       "      <td>1193</td>\n",
       "      <td>5</td>\n",
       "      <td>978300760</td>\n",
       "    </tr>\n",
       "    <tr>\n",
       "      <th>1</th>\n",
       "      <td>1</td>\n",
       "      <td>661</td>\n",
       "      <td>3</td>\n",
       "      <td>978302109</td>\n",
       "    </tr>\n",
       "    <tr>\n",
       "      <th>2</th>\n",
       "      <td>1</td>\n",
       "      <td>914</td>\n",
       "      <td>3</td>\n",
       "      <td>978301968</td>\n",
       "    </tr>\n",
       "    <tr>\n",
       "      <th>3</th>\n",
       "      <td>1</td>\n",
       "      <td>3408</td>\n",
       "      <td>4</td>\n",
       "      <td>978300275</td>\n",
       "    </tr>\n",
       "    <tr>\n",
       "      <th>4</th>\n",
       "      <td>1</td>\n",
       "      <td>2355</td>\n",
       "      <td>5</td>\n",
       "      <td>978824291</td>\n",
       "    </tr>\n",
       "  </tbody>\n",
       "</table>\n",
       "</div>"
      ],
      "text/plain": [
       "   uid   iid  val        tag\n",
       "0    1  1193    5  978300760\n",
       "1    1   661    3  978302109\n",
       "2    1   914    3  978301968\n",
       "3    1  3408    4  978300275\n",
       "4    1  2355    5  978824291"
      ]
     },
     "execution_count": 4,
     "metadata": {},
     "output_type": "execute_result"
    }
   ],
   "source": [
    "import pandas as pd\n",
    "\n",
    "ratings = pd.read_csv('ratings.dat', header=None, sep='::', names=['uid', 'iid', 'val', 'tag'])\n",
    "# ratings = ratings.drop(columns=['tag'])\n",
    "ratings.head()"
   ]
  },
  {
   "cell_type": "code",
   "execution_count": 7,
   "metadata": {
    "pycharm": {
     "name": "#%%\n"
    }
   },
   "outputs": [],
   "source": [
    "users = pd.read_csv('users.dat', header=None, sep='::', names=['uid', 'gender', 'age', 'occup', 'zip'], engine='python')\n",
    "# np.save('user_gender', gender_dict)"
   ]
  },
  {
   "cell_type": "markdown",
   "metadata": {
    "pycharm": {
     "name": "#%% md\n"
    }
   },
   "source": [
    "# data info"
   ]
  },
  {
   "cell_type": "code",
   "execution_count": 5,
   "metadata": {
    "pycharm": {
     "name": "#%%\n"
    }
   },
   "outputs": [
    {
     "name": "stdout",
     "output_type": "stream",
     "text": [
      "Number of ratings: 1000209\n",
      "Number of users: 6040\n",
      "Number of movies: 3706\n",
      "6040\n"
     ]
    }
   ],
   "source": [
    "print('Number of ratings:', len(ratings))\n",
    "print('Number of users:', len(ratings.uid.unique()))\n",
    "print('Number of movies:', len(ratings.iid.unique()))\n",
    "\n",
    "print(max(ratings.uid.unique()))"
   ]
  },
  {
   "cell_type": "code",
   "execution_count": 8,
   "metadata": {
    "pycharm": {
     "name": "#%%\n"
    }
   },
   "outputs": [
    {
     "name": "stdout",
     "output_type": "stream",
     "text": [
      "male: 4331\n",
      "female: 1709\n"
     ]
    }
   ],
   "source": [
    "print('male:', len(users[users.gender == 'M']))\n",
    "print('female:', len(users[users.gender == 'F']))"
   ]
  },
  {
   "cell_type": "code",
   "execution_count": 9,
   "metadata": {
    "collapsed": false,
    "pycharm": {
     "name": "#%%\n"
    }
   },
   "outputs": [
    {
     "name": "stdout",
     "output_type": "stream",
     "text": [
      "      iid  val  tag\n",
      "uid                \n",
      "1      53   53   53\n",
      "2     129  129  129\n",
      "3      51   51   51\n",
      "4      21   21   21\n",
      "5     198  198  198\n",
      "...   ...  ...  ...\n",
      "6036  888  888  888\n",
      "6037  202  202  202\n",
      "6038   20   20   20\n",
      "6039  123  123  123\n",
      "6040  341  341  341\n",
      "\n",
      "[6040 rows x 3 columns]\n"
     ]
    }
   ],
   "source": [
    "print(ratings.groupby('uid').agg('count'))"
   ]
  },
  {
   "cell_type": "markdown",
   "metadata": {
    "pycharm": {
     "name": "#%% md\n"
    }
   },
   "source": [
    "# filter interaction < 5"
   ]
  },
  {
   "cell_type": "code",
   "execution_count": 10,
   "metadata": {
    "pycharm": {
     "name": "#%%\n"
    }
   },
   "outputs": [
    {
     "name": "stdout",
     "output_type": "stream",
     "text": [
      "user: 20\n",
      "item: 1\n"
     ]
    }
   ],
   "source": [
    "print('user:', min(ratings.groupby('uid').agg('count').iid))\n",
    "print('item:', min(ratings.groupby('iid').agg('count').uid))"
   ]
  },
  {
   "cell_type": "code",
   "execution_count": 11,
   "metadata": {
    "pycharm": {
     "name": "#%%\n"
    }
   },
   "outputs": [
    {
     "name": "stdout",
     "output_type": "stream",
     "text": [
      ">>> item:\n"
     ]
    },
    {
     "name": "stderr",
     "output_type": "stream",
     "text": [
      "100%|██████████| 3706/3706 [00:03<00:00, 1056.55it/s] \n"
     ]
    },
    {
     "name": "stdout",
     "output_type": "stream",
     "text": [
      ">>> user:\n"
     ]
    },
    {
     "name": "stderr",
     "output_type": "stream",
     "text": [
      "100%|██████████| 6040/6040 [00:00<00:00, 250047.83it/s]\n"
     ]
    },
    {
     "name": "stdout",
     "output_type": "stream",
     "text": [
      ">>> item:\n"
     ]
    },
    {
     "name": "stderr",
     "output_type": "stream",
     "text": [
      "100%|██████████| 3416/3416 [00:00<00:00, 224421.51it/s]\n"
     ]
    },
    {
     "name": "stdout",
     "output_type": "stream",
     "text": [
      ">>> user:\n"
     ]
    },
    {
     "name": "stderr",
     "output_type": "stream",
     "text": [
      "100%|██████████| 6040/6040 [00:00<00:00, 237706.74it/s]\n"
     ]
    }
   ],
   "source": [
    "from tqdm import tqdm\n",
    "\n",
    "low = 5\n",
    "while True:\n",
    "    n_filter = 0\n",
    "    # drop item\n",
    "    print('>>> item:')\n",
    "    user_data = ratings.groupby('iid').agg(list)\n",
    "    for i in tqdm(ratings.iid.unique()):\n",
    "        if len(user_data['uid'][i]) < low:\n",
    "            ratings = ratings[ratings.iid.values != i]\n",
    "            n_filter += 1\n",
    "\n",
    "    # drop user\n",
    "    print('>>> user:')\n",
    "    item_data = ratings.groupby('uid').agg(list)\n",
    "    for i in tqdm(ratings.uid.unique()):\n",
    "        if len(item_data['iid'][i]) < low:\n",
    "            ratings = ratings[ratings.uid.values != i]\n",
    "            n_filter += 1\n",
    "    \n",
    "    # terminate\n",
    "    if n_filter == 0:\n",
    "        break\n",
    "\n",
    "# reset index\n",
    "ratings.reset_index(drop=True, inplace=True)"
   ]
  },
  {
   "cell_type": "code",
   "execution_count": 12,
   "metadata": {
    "collapsed": false,
    "pycharm": {
     "name": "#%%\n"
    }
   },
   "outputs": [
    {
     "name": "stdout",
     "output_type": "stream",
     "text": [
      "user: 18\n",
      "item: 5\n"
     ]
    }
   ],
   "source": [
    "print('user:', min(ratings.groupby('uid').agg('count').iid))\n",
    "print('item:', min(ratings.groupby('iid').agg('count').uid))"
   ]
  },
  {
   "cell_type": "markdown",
   "metadata": {
    "pycharm": {
     "name": "#%% md\n"
    }
   },
   "source": [
    "# squeeze id"
   ]
  },
  {
   "cell_type": "code",
   "execution_count": 13,
   "metadata": {
    "pycharm": {
     "name": "#%%\n"
    }
   },
   "outputs": [
    {
     "name": "stdout",
     "output_type": "stream",
     "text": [
      "user id: 6040/6040\n",
      "item id: 3952/3416\n"
     ]
    }
   ],
   "source": [
    "print(f'user id: {max(ratings.uid.unique())}/{len(ratings.uid.unique())}')\n",
    "print(f'item id: {max(ratings.iid.unique())}/{len(ratings.iid.unique())}')"
   ]
  },
  {
   "cell_type": "code",
   "execution_count": 14,
   "metadata": {},
   "outputs": [
    {
     "name": "stdout",
     "output_type": "stream",
     "text": [
      "         uid   iid  val        tag\n",
      "0          1  1193    5  978300760\n",
      "1          1   661    3  978302109\n",
      "2          1   914    3  978301968\n",
      "3          1  3408    4  978300275\n",
      "4          1  2355    5  978824291\n",
      "...      ...   ...  ...        ...\n",
      "999606  6040  1091    1  956716541\n",
      "999607  6040  1094    5  956704887\n",
      "999608  6040   562    5  956704746\n",
      "999609  6040  1096    4  956715648\n",
      "999610  6040  1097    4  956715569\n",
      "\n",
      "[999611 rows x 4 columns]\n"
     ]
    }
   ],
   "source": [
    "print(ratings)"
   ]
  },
  {
   "cell_type": "code",
   "execution_count": 15,
   "metadata": {
    "pycharm": {
     "name": "#%%\n"
    }
   },
   "outputs": [],
   "source": [
    "import numpy as np\n",
    "\n",
    "# squeeze uid\n",
    "ratings.uid -= 1\n",
    "\n",
    "# squeeze iid\n",
    "item_dict = {}\n",
    "for i, ori in enumerate(ratings['iid'].unique()):\n",
    "    item_dict[ori] = i\n",
    "    \n",
    "np.save('item_dict', item_dict)\n",
    "\n",
    "ratings.iid = ratings.iid.map(item_dict)\n",
    "\n",
    "# save file\n",
    "ratings.sort_values(by=['uid', 'iid']).to_csv('ratings.csv', index=False)"
   ]
  },
  {
   "cell_type": "code",
   "execution_count": 16,
   "metadata": {},
   "outputs": [
    {
     "name": "stdout",
     "output_type": "stream",
     "text": [
      "         uid   iid  val\n",
      "0          0     0    1\n",
      "1          0     1    1\n",
      "2          0     2    1\n",
      "3          0     3    1\n",
      "4          0     4    1\n",
      "...      ...   ...  ...\n",
      "999606  6039  2893    1\n",
      "999607  6039  2937    1\n",
      "999608  6039  3018    1\n",
      "999609  6039  3022    1\n",
      "999610  6039  3344    1\n",
      "\n",
      "[999611 rows x 3 columns]\n"
     ]
    }
   ],
   "source": [
    "import pandas as pd\n",
    "new_pdr = pd.read_csv(\"ratings.csv\")\n",
    "new_pdr = new_pdr[['uid','iid','val']]\n",
    "\n",
    "new_pdr['val'] = 1\n",
    "print(new_pdr)"
   ]
  },
  {
   "cell_type": "code",
   "execution_count": 17,
   "metadata": {},
   "outputs": [
    {
     "name": "stdout",
     "output_type": "stream",
     "text": [
      "         uid   iid val\n",
      "0          0     1   1\n",
      "1          0     2   1\n",
      "2          0     6   1\n",
      "3          0     7   1\n",
      "4          0     8   1\n",
      "...      ...   ...  ..\n",
      "797270  6039  2893   1\n",
      "797271  6039  2937   1\n",
      "797272  6039  3018   1\n",
      "797273  6039  3022   1\n",
      "797274  6039  3344   1\n",
      "\n",
      "[797275 rows x 3 columns]\n",
      "         uid   iid val\n",
      "0          0     0   1\n",
      "1          0     3   1\n",
      "2          0     4   1\n",
      "3          0     5   1\n",
      "4          0    15   1\n",
      "...      ...   ...  ..\n",
      "202331  6039  2509   1\n",
      "202332  6039  2568   1\n",
      "202333  6039  2602   1\n",
      "202334  6039  2624   1\n",
      "202335  6039  2662   1\n",
      "\n",
      "[202336 rows x 3 columns]\n"
     ]
    }
   ],
   "source": [
    "from tqdm import tqdm\n",
    "import time \n",
    "import pandas as pd\n",
    "import random\n",
    "\n",
    "train_ratio = 0.8\n",
    "train_df = pd.DataFrame([], columns=['uid', 'iid', 'val'])\n",
    "test_df = pd.DataFrame([], columns=['uid', 'iid', 'val'])\n",
    "\n",
    "train_index = []\n",
    "test_index = []\n",
    "\n",
    "\n",
    "for i in range(len(new_pdr.uid.unique())):\n",
    "    t1 = time.time()\n",
    "    indices = new_pdr[new_pdr.uid == i].index\n",
    "    index_list = indices.to_list()\n",
    "    \n",
    "    total = len(indices)\n",
    "\n",
    "    n_train = int(total * train_ratio)\n",
    "    \n",
    "    train_idx = random.sample(index_list, n_train)\n",
    "    test_idx = list(set(index_list) - set(train_idx))\n",
    "    \n",
    "    train_index.extend(train_idx)\n",
    "    test_index.extend(test_idx)\n",
    "    \n",
    "    # if i%1000 == 0:\n",
    "    #     print(i)\n",
    "\n",
    "train_index = np.array(train_index)\n",
    "test_index = np.array(test_index)\n",
    "\n",
    "user_train = new_pdr.iloc[np.sort(train_index), :]\n",
    "user_test = new_pdr.iloc[np.sort(test_index), :]\n",
    "\n",
    "train_df = pd.concat([train_df,user_train], ignore_index=True)\n",
    "test_df = pd.concat([test_df, user_test], ignore_index=True)  \n",
    "\n",
    "print(train_df)\n",
    "print(test_df)\n",
    "\n",
    "# c=9/0\n",
    "# train_df['val'] = np.float16(train_df['rating'])\n",
    "# test_df['val'] = np.float16(test_df['rating'])\n",
    "\n",
    "train_df[['uid', 'iid', 'val']].to_csv('train.csv', index=False)\n",
    "test_df[['uid', 'iid', 'val']].to_csv('test.csv', index=False)"
   ]
  },
  {
   "cell_type": "markdown",
   "metadata": {
    "pycharm": {
     "name": "#%% md\n"
    }
   },
   "source": [
    "# divide train:test"
   ]
  },
  {
   "cell_type": "code",
   "execution_count": 18,
   "metadata": {
    "collapsed": false,
    "pycharm": {
     "name": "#%%\n"
    }
   },
   "outputs": [
    {
     "name": "stdout",
     "output_type": "stream",
     "text": [
      "user id: 6039/6040\n",
      "item id: 3415/3416\n"
     ]
    }
   ],
   "source": [
    "print(f'user id: {max(ratings.uid.unique())}/{len(ratings.uid.unique())}')\n",
    "print(f'item id: {max(ratings.iid.unique())}/{len(ratings.iid.unique())}')"
   ]
  },
  {
   "cell_type": "code",
   "execution_count": 21,
   "metadata": {
    "collapsed": false,
    "pycharm": {
     "name": "#%%\n"
    }
   },
   "outputs": [
    {
     "name": "stdout",
     "output_type": "stream",
     "text": [
      "       uid   iid  val        tag\n",
      "0        0     0    5  889751633\n",
      "1        0     3    4  878543275\n",
      "2        0     6    4  878542441\n",
      "3        0     9    5  878543541\n",
      "4        0    10    4  874965954\n",
      "...    ...   ...  ...        ...\n",
      "99282  942  1025    4  888640250\n",
      "99283  942  1058    3  888640250\n",
      "99284  942  1061    1  888640027\n",
      "99285  942  1077    3  888640275\n",
      "99286  942  1179    4  888639954\n",
      "\n",
      "[99287 rows x 4 columns]\n"
     ]
    }
   ],
   "source": [
    "import pandas as pd\n",
    "ll = pd.read_csv(\"ratings.csv\")\n",
    "print(ll)"
   ]
  },
  {
   "cell_type": "code",
   "execution_count": 27,
   "metadata": {
    "collapsed": false,
    "pycharm": {
     "name": "#%%\n"
    }
   },
   "outputs": [
    {
     "name": "stdout",
     "output_type": "stream",
     "text": [
      "         uid   iid  val\n",
      "0          0     1    1\n",
      "1          0     2    1\n",
      "2          0     6    1\n",
      "3          0     7    1\n",
      "4          0     8    1\n",
      "...      ...   ...  ...\n",
      "797270  6039  2893    1\n",
      "797271  6039  2937    1\n",
      "797272  6039  3018    1\n",
      "797273  6039  3022    1\n",
      "797274  6039  3344    1\n",
      "\n",
      "[797275 rows x 3 columns]\n"
     ]
    }
   ],
   "source": [
    "import pandas as pd\n",
    "train_data = pd.read_csv(\"train.csv\")\n",
    "print(train_data)"
   ]
  },
  {
   "cell_type": "code",
   "execution_count": 28,
   "metadata": {},
   "outputs": [
    {
     "name": "stdout",
     "output_type": "stream",
     "text": [
      "0     0\n",
      "1     0\n",
      "2     0\n",
      "3     0\n",
      "4     0\n",
      "5     0\n",
      "6     0\n",
      "7     0\n",
      "8     0\n",
      "9     0\n",
      "10    0\n",
      "11    0\n",
      "12    0\n",
      "13    0\n",
      "14    0\n",
      "15    0\n",
      "16    0\n",
      "17    0\n",
      "18    0\n",
      "19    0\n",
      "20    0\n",
      "21    0\n",
      "22    0\n",
      "23    0\n",
      "24    0\n",
      "25    0\n",
      "26    0\n",
      "27    0\n",
      "28    0\n",
      "29    0\n",
      "Name: uid, dtype: int64\n"
     ]
    }
   ],
   "source": [
    "print(train_data.iloc[:, 0][0:30])"
   ]
  },
  {
   "cell_type": "code",
   "execution_count": 24,
   "metadata": {},
   "outputs": [],
   "source": [
    "user_num = train_data['uid'].max() + 1\n",
    "item_num = train_data['iid'].max() + 1\n",
    "\n",
    "# train_data = train_data.values.tolist()\n",
    "train_data = train_data.values.tolist()\n",
    "\n",
    "pos_dict = {}\n",
    "\n",
    "for x in train_data:\n",
    "    if x[0] not in pos_dict.keys():\n",
    "        pos_dict[x[0]] = []\n",
    "    pos_dict[x[0]].append(x[1])\n",
    "\n",
    "np.save('pos_dict.npy', pos_dict)"
   ]
  },
  {
   "cell_type": "code",
   "execution_count": 56,
   "metadata": {},
   "outputs": [
    {
     "name": "stdout",
     "output_type": "stream",
     "text": [
      "[0, 6, 9, 10, 12, 13, 14, 22, 23, 24, 26, 29, 31, 32, 33, 34, 38, 39, 44, 46, 47, 49, 52, 53, 56, 64, 65, 71, 73, 75, 76, 77, 79, 83, 86, 88, 93, 94, 100, 106, 112, 113, 116, 117, 118, 122, 130, 139, 146, 147, 148, 156, 157, 166, 169, 170, 176, 177, 181, 182, 188, 191, 195, 199, 203, 208, 209, 215, 216, 217, 218, 220, 221, 224, 229, 233, 235, 239, 247, 250, 253, 254, 256, 260, 263, 269, 275, 277, 288, 292, 296, 297, 303, 305, 307, 311, 313, 317, 320, 321, 324, 328, 329, 330, 337, 338, 347, 351, 356, 357, 359, 363, 367, 371, 373, 379, 382, 385, 387, 390, 398, 402, 404, 407, 422, 431, 442, 443, 446, 450, 460, 465, 467, 469, 478, 489, 490, 497, 499, 500, 501, 504, 519, 520, 524, 525, 527, 532, 538, 541, 543, 544, 546, 549, 552, 553, 554, 563, 568, 574, 586, 588, 592, 595, 608, 609, 611, 619, 621, 642, 655, 658, 661, 681, 697, 712, 715, 716, 717, 725, 731, 748, 760, 765, 766, 768, 785, 793, 805, 808, 843, 848, 850, 851, 856, 858, 892, 910, 918, 922, 923, 926, 934, 963, 980, 984, 987, 1030, 1040, 1139, 1145, 1175, 1209, 1213, 1236, 1240]\n"
     ]
    }
   ],
   "source": [
    "d = np.load('pos_dict.npy', allow_pickle=True).item()\n",
    "print(d[0])"
   ]
  }
 ],
 "metadata": {
  "kernelspec": {
   "display_name": "Python 3.8.10 64-bit",
   "language": "python",
   "name": "python3"
  },
  "language_info": {
   "codemirror_mode": {
    "name": "ipython",
    "version": 3
   },
   "file_extension": ".py",
   "mimetype": "text/x-python",
   "name": "python",
   "nbconvert_exporter": "python",
   "pygments_lexer": "ipython3",
   "version": "3.8.15"
  },
  "orig_nbformat": 4,
  "vscode": {
   "interpreter": {
    "hash": "916dbcbb3f70747c44a77c7bcd40155683ae19c65e1c03b4aa3499c5328201f1"
   }
  }
 },
 "nbformat": 4,
 "nbformat_minor": 2
}
